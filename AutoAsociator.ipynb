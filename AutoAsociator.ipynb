{
 "cells": [
  {
   "cell_type": "code",
   "execution_count": 1,
   "metadata": {},
   "outputs": [],
   "source": [
    "import pandas as pd\n",
    "import numpy as np\n",
    "\n",
    "import matplotlib as m_plt\n",
    "from matplotlib import pyplot as plt\n",
    "\n",
    "from copy import copy\n",
    "from pprint import pprint\n",
    "\n",
    "import sys\n",
    "import os\n",
    "\n",
    "import personal_plotter as p_plt"
   ]
  },
  {
   "cell_type": "markdown",
   "metadata": {},
   "source": [
    "# Autoasociator\n",
    "\n",
    "## 1. Data Generation"
   ]
  },
  {
   "cell_type": "code",
   "execution_count": 2,
   "metadata": {},
   "outputs": [
    {
     "name": "stdout",
     "output_type": "stream",
     "text": [
      "[[1. 0. 0. 0. 0. 0. 0. 0. 0. 0.]\n",
      " [0. 1. 0. 0. 0. 0. 0. 0. 0. 0.]\n",
      " [0. 0. 1. 0. 0. 0. 0. 0. 0. 0.]\n",
      " [0. 0. 0. 1. 0. 0. 0. 0. 0. 0.]\n",
      " [0. 0. 0. 0. 1. 0. 0. 0. 0. 0.]\n",
      " [0. 0. 0. 0. 0. 1. 0. 0. 0. 0.]\n",
      " [0. 0. 0. 0. 0. 0. 1. 0. 0. 0.]\n",
      " [0. 0. 0. 0. 0. 0. 0. 1. 0. 0.]\n",
      " [0. 0. 0. 0. 0. 0. 0. 0. 1. 0.]\n",
      " [0. 0. 0. 0. 0. 0. 0. 0. 0. 1.]]\n"
     ]
    }
   ],
   "source": [
    "dummy_shape = (10)\n",
    "dummy_data = np.identity(dummy_shape)\n",
    "print(dummy_data)"
   ]
  },
  {
   "cell_type": "markdown",
   "metadata": {},
   "source": [
    "### 1.1 Data Sampling\n",
    "\n",
    "we use our dummy data generated befor as template, being the input and objetive data equal to."
   ]
  },
  {
   "cell_type": "code",
   "execution_count": 3,
   "metadata": {},
   "outputs": [],
   "source": [
    "input_data = dummy_data.copy()\n",
    "objetive_data = dummy_data.copy()"
   ]
  },
  {
   "cell_type": "markdown",
   "metadata": {},
   "source": [
    "## 2. Neural Network\n",
    "\n",
    "### 2.1 Arquitecture\n",
    "bla bla\n",
    "#### 2.1.1 Input Layer\n",
    "bla bla\n",
    "#### 2.1.2 Hiden Layer\n",
    "bla bla\n",
    "#### 2.1.3 Output Layer\n",
    "bla bla\n",
    "\n",
    "---\n",
    "___\n",
    "---\n",
    "\n",
    "### 2.2 Functions ( Training Procedure)\n",
    "bla bla\n",
    "#### 2.2.1 Activation Function\n",
    "bla bla sigmoid"
   ]
  },
  {
   "cell_type": "code",
   "execution_count": 4,
   "metadata": {},
   "outputs": [],
   "source": [
    "def sigmoid(*args):\n",
    "    return 1 / (1 + np.exp(-x_val))"
   ]
  },
  {
   "cell_type": "markdown",
   "metadata": {},
   "source": [
    "#### 2.2.2 Forward\n",
    "bla ble"
   ]
  },
  {
   "cell_type": "code",
   "execution_count": 7,
   "metadata": {},
   "outputs": [],
   "source": [
    "def forward_engine(input_data, objetive_data, layer_container, theta_container=None,kernel=sigmoid):\n",
    "    if theta_container is None:\n",
    "        theta_container = [ np.zeros(layer_container[ii].shape) for ii in len(layer_container)]\n",
    "    else:\n",
    "        pass\n",
    "    \n",
    "    output = [ None for _ in range(len(layer_container)) ]\n",
    "    \n",
    "    relative_layer = input_data.copy()\n",
    "    for index in range(len(layer_container)):\n",
    "            carry =  kernel((relative_layer *  layer_container[index]) + theta_container)\n",
    "            output[index] = carry.copy()\n",
    "            \n",
    "            relative_laye = carry.copy()\n",
    "    \n",
    "    return output"
   ]
  },
  {
   "cell_type": "markdown",
   "metadata": {},
   "source": [
    "#### 2.2.3 Gradient Derivates\n",
    "bla ble"
   ]
  },
  {
   "cell_type": "code",
   "execution_count": 8,
   "metadata": {},
   "outputs": [],
   "source": [
    "def d_sigmoid(*args):\n",
    "    pass    "
   ]
  },
  {
   "cell_type": "markdown",
   "metadata": {},
   "source": [
    "#### 2.2.4 Backward\n",
    "bla ble"
   ]
  },
  {
   "cell_type": "code",
   "execution_count": null,
   "metadata": {},
   "outputs": [],
   "source": [
    "def backward_engine(input_data, objetive_data, layer_container, theta_container=None,\n",
    "                    forward_layer,\n",
    "                   learning_rate=0.01, epochs=int(1e6), threashold=0.05):\n",
    "    if theta_container is None:\n",
    "        theta_container = [ np.zeros(layer_container[ii].shape) for ii in len(layer_container)]\n",
    "    else:\n",
    "        pass\n",
    "    \n",
    "    output = [ None for _ in range(len(layer_container)) ]\n",
    "    \n",
    "    relative_layer = input_data.copy()\n",
    "    for index in range(len(layer_container)):\n",
    "            carry =  kernel((relative_layer *  layer_container[index]) + theta_container)\n",
    "            output[index] = carry.copy()\n",
    "            \n",
    "            relative_laye = carry.copy()\n",
    "    \n",
    "    return output"
   ]
  }
 ],
 "metadata": {
  "kernelspec": {
   "display_name": "Python 3",
   "language": "python",
   "name": "python3"
  },
  "language_info": {
   "codemirror_mode": {
    "name": "ipython",
    "version": 3
   },
   "file_extension": ".py",
   "mimetype": "text/x-python",
   "name": "python",
   "nbconvert_exporter": "python",
   "pygments_lexer": "ipython3",
   "version": "3.6.5"
  }
 },
 "nbformat": 4,
 "nbformat_minor": 2
}
